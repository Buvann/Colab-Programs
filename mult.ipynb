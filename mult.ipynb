{
  "nbformat": 4,
  "nbformat_minor": 0,
  "metadata": {
    "colab": {
      "name": "mult.ipynb",
      "provenance": []
    },
    "kernelspec": {
      "name": "python3",
      "display_name": "Python 3"
    }
  },
  "cells": [
    {
      "cell_type": "markdown",
      "metadata": {
        "id": "5c7gGQ9fNvUH"
      },
      "source": [
        "#Multiplying 2 Numbers\n"
      ]
    },
    {
      "cell_type": "code",
      "metadata": {
        "id": "iesz5MqDFxl5",
        "outputId": "82673e37-1e13-45ce-d25f-908d6c143148",
        "colab": {
          "base_uri": "https://localhost:8080/"
        }
      },
      "source": [
        "x=5\n",
        "y=10\n",
        "print(x*y)"
      ],
      "execution_count": null,
      "outputs": [
        {
          "output_type": "stream",
          "text": [
            "50\n"
          ],
          "name": "stdout"
        }
      ]
    }
  ]
}