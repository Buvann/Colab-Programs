{
  "nbformat": 4,
  "nbformat_minor": 0,
  "metadata": {
    "colab": {
      "name": " mult.ipynb",
      "provenance": [],
      "collapsed_sections": [],
      "toc_visible": true,
      "authorship_tag": "ABX9TyPEj9ZQRosixRE1iIu0tVCp",
      "include_colab_link": true
    },
    "kernelspec": {
      "name": "python3",
      "display_name": "Python 3"
    }
  },
  "cells": [
    {
      "cell_type": "markdown",
      "metadata": {
        "id": "view-in-github",
        "colab_type": "text"
      },
      "source": [
        "<a href=\"https://colab.research.google.com/github/Buvann/Colab-Programs/blob/main/mult.ipynb\" target=\"_parent\"><img src=\"https://colab.research.google.com/assets/colab-badge.svg\" alt=\"Open In Colab\"/></a>"
      ]
    },
    {
      "cell_type": "markdown",
      "metadata": {
        "id": "5c7gGQ9fNvUH"
      },
      "source": [
        "#Multiplying 2 Numbers\n"
      ]
    },
    {
      "cell_type": "code",
      "metadata": {
        "id": "iesz5MqDFxl5",
        "outputId": "84181262-e126-43ae-dd47-dc295d101fc6",
        "colab": {
          "base_uri": "https://localhost:8080/"
        }
      },
      "source": [
        "x=5\n",
        "y=10\n",
        "print(x*y)"
      ],
      "execution_count": null,
      "outputs": [
        {
          "output_type": "stream",
          "text": [
            "50\n"
          ],
          "name": "stdout"
        }
      ]
    },
    {
      "cell_type": "markdown",
      "metadata": {
        "id": "JDSdPmqpYYI0"
      },
      "source": [
        "#Division\n"
      ]
    },
    {
      "cell_type": "code",
      "metadata": {
        "id": "D-g6Hp5eYhWg",
        "outputId": "97f05a0b-94fa-4f18-ea65-c0f9b3035578",
        "colab": {
          "base_uri": "https://localhost:8080/"
        }
      },
      "source": [
        "print(x/y)"
      ],
      "execution_count": null,
      "outputs": [
        {
          "output_type": "stream",
          "text": [
            "0.5\n"
          ],
          "name": "stdout"
        }
      ]
    },
    {
      "cell_type": "markdown",
      "metadata": {
        "id": "AanQoVmcZ2LE"
      },
      "source": [
        "#Mod\n"
      ]
    },
    {
      "cell_type": "markdown",
      "metadata": {
        "id": "W3XRguanaAUx"
      },
      "source": [
        "x mod y\n"
      ]
    },
    {
      "cell_type": "code",
      "metadata": {
        "id": "p9I_CcMIaGbK",
        "outputId": "55b71803-0ed8-42b9-ed06-07b9c04b7d60",
        "colab": {
          "base_uri": "https://localhost:8080/"
        }
      },
      "source": [
        "x % y"
      ],
      "execution_count": null,
      "outputs": [
        {
          "output_type": "execute_result",
          "data": {
            "text/plain": [
              "5"
            ]
          },
          "metadata": {
            "tags": []
          },
          "execution_count": 4
        }
      ]
    },
    {
      "cell_type": "markdown",
      "metadata": {
        "id": "ZwcF86tqaTkD"
      },
      "source": [
        "# Subtraction"
      ]
    },
    {
      "cell_type": "code",
      "metadata": {
        "id": "HNjK5hpeaakH",
        "outputId": "f9db73a2-9aad-4503-81d3-aa0d719e376f",
        "colab": {
          "base_uri": "https://localhost:8080/"
        }
      },
      "source": [
        "x-y"
      ],
      "execution_count": null,
      "outputs": [
        {
          "output_type": "execute_result",
          "data": {
            "text/plain": [
              "-5"
            ]
          },
          "metadata": {
            "tags": []
          },
          "execution_count": 5
        }
      ]
    },
    {
      "cell_type": "markdown",
      "metadata": {
        "id": "9cKzll1Iamlp"
      },
      "source": [
        "# Addition"
      ]
    },
    {
      "cell_type": "code",
      "metadata": {
        "id": "DmJKdlCwaq43",
        "outputId": "313a160b-b210-4697-c18a-44ff3dfb8a09",
        "colab": {
          "base_uri": "https://localhost:8080/"
        }
      },
      "source": [
        "x+y"
      ],
      "execution_count": null,
      "outputs": [
        {
          "output_type": "execute_result",
          "data": {
            "text/plain": [
              "15"
            ]
          },
          "metadata": {
            "tags": []
          },
          "execution_count": 7
        }
      ]
    }
  ]
}